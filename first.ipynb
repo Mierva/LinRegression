{
 "cells": [
  {
   "cell_type": "code",
   "execution_count": 1,
   "metadata": {},
   "outputs": [],
   "source": [
    "import pandas as pd\n",
    "import numpy as np\n",
    "import matplotlib.pyplot as plt\n",
    "import seaborn as sn\n",
    "from sklearn.linear_model import LinearRegression\n",
    "from sklearn.metrics import mean_squared_error, r2_score\n",
    "from sklearn.impute import SimpleImputer\n",
    "from sklearn.model_selection import train_test_split\n",
    "\n",
    "df = pd.read_csv(r'D:\\Applied ML learning\\datasets\\house_pricing\\train.csv')\n",
    "X_train, X_test, y_train, y_test = train_test_split(df, df['SalePrice'], test_size=0.3, random_state=0)"
   ]
  },
  {
   "cell_type": "code",
   "execution_count": 2,
   "metadata": {},
   "outputs": [],
   "source": [
    "X_train = X_train.reset_index().drop('index',axis=1)\n",
    "X_train = X_train.select_dtypes(exclude=['object'])\n",
    "X_train.drop('Id',axis=1,inplace=True)\n",
    "X_train.drop('SalePrice',axis=1,inplace=True)\n",
    "X_train = X_train['YearBuilt']\n",
    "X_train = X_train.values.reshape(-1,1)"
   ]
  },
  {
   "cell_type": "code",
   "execution_count": 3,
   "metadata": {},
   "outputs": [],
   "source": [
    "X_test = X_test.reset_index().drop('index',axis=1)\n",
    "X_test = X_test.select_dtypes(exclude=['object'])\n",
    "X_test.drop('Id',axis=1,inplace=True)\n",
    "X_test.drop('SalePrice',axis=1,inplace=True)\n",
    "X_test = X_test['YearBuilt']\n",
    "X_test = X_test.values.reshape(-1,1)"
   ]
  },
  {
   "cell_type": "code",
   "execution_count": 4,
   "metadata": {},
   "outputs": [],
   "source": [
    "reg = LinearRegression()\n",
    "reg.fit(X_train, y_train)\n",
    "y_predicted = reg.predict(X_test)"
   ]
  },
  {
   "cell_type": "code",
   "execution_count": 5,
   "metadata": {},
   "outputs": [
    {
     "data": {
      "text/plain": [
       "'plt.xlim(left=40000,right=500000)\\nplt.ylim(bottom=40000,top=500000)'"
      ]
     },
     "execution_count": 5,
     "metadata": {},
     "output_type": "execute_result"
    },
    {
     "data": {
      "image/png": "[encoded data removed]",
      "text/plain": [
       "<Figure size 432x288 with 1 Axes>"
      ]
     },
     "metadata": {
      "needs_background": "light"
     },
     "output_type": "display_data"
    }
   ],
   "source": [
    "mse = mean_squared_error(y_test, y_predicted)\n",
    "\n",
    "'''What to output?'''\n",
    "plt.scatter(X_test, y_predicted)\n",
    "#plt.plot(y_predicted,y_predicted, color='red')\n",
    "\n",
    "'''plt.xlim(left=40000,right=500000)\n",
    "plt.ylim(bottom=40000,top=500000)'''"
   ]
  },
  {
   "cell_type": "code",
   "execution_count": 6,
   "metadata": {},
   "outputs": [
    {
     "name": "stderr",
     "output_type": "stream",
     "text": [
      "<>:35: SyntaxWarning: 'int' object is not callable; perhaps you missed a comma?\n",
      "<>:35: SyntaxWarning: 'int' object is not callable; perhaps you missed a comma?\n",
      "C:\\Users\\homou\\AppData\\Local\\Temp\\ipykernel_7500\\2832433701.py:35: SyntaxWarning: 'int' object is not callable; perhaps you missed a comma?\n",
      "  old_intercept = -2(x_actual + (x_pred*slope + intercept))\n"
     ]
    }
   ],
   "source": [
    "class MultivariateRegression:\n",
    "    def __init__(self):\n",
    "        self.score = 0\n",
    "        self.coeffs = 0\n",
    "        self.std = 0\n",
    "        self.res = 0\n",
    "\n",
    "    def fit1(self, features, target):\n",
    "        # .map() or .apply() those loops to make it multivariable\n",
    "        xy = [features.values.iloc[:,i]*target.values.iloc[:,i] for i in range(len(features.values))]\n",
    "        x_squared = [x[0]**2 for x in features.values]\n",
    "        n = len(features.values)\n",
    "\n",
    "        m = (n*sum(xy)-sum(features.values)*sum(target.values))/(n*sum(x_squared)-(sum(features.values)**2))\n",
    "        b = ((sum(target.values)-m*sum(features.values))/n)\n",
    "\n",
    "        y = [(m*x[0]+b) for x in features.values]\n",
    "\n",
    "        return y\n",
    "\n",
    "    def fit(self, X, y):\n",
    "        for i in range(X.shape[1]):\n",
    "            xy = [X.iloc[:,i].values.iloc[:,i]*y.iloc[:,i].values.iloc[:,i] for i in range(len(X.iloc[:,i].values))]\n",
    "            x_squared = [x[0]**2 for x in X.iloc[:,i].values]\n",
    "            n = len(X.values)\n",
    "\n",
    "            m = (n*sum(xy)-sum(X.iloc[:,i].values)*sum(y.iloc[:,i].values))/(n*sum(x_squared)-(sum(X.iloc[:,i].values)**2))\n",
    "            b = ((sum(y.iloc[:,i].values)-m*sum(X.iloc[:,i].values))/n)\n",
    "\n",
    "            y = [(m*x[0]+b) for x in X.iloc[:,i].values]\n",
    "\n",
    "        return y\n",
    "\n",
    "    def gradient_descent(x_actual, x_pred, intercept, slope, L=0.01):\n",
    "        old_intercept = -2(x_actual + (x_pred*slope + intercept))\n",
    "        step_size = old_intercept*L\n",
    "        new_intercept = old_intercept-step_size\n",
    "\n",
    "        step_size_limit = 0.001\n",
    "        step_num_limit  = 1000\n",
    "        if step_size >= step_size_limit & 0 >= step_num_limit:\n",
    "            pass\n",
    "        \n",
    "        return 0\n",
    "    \n",
    "    def predict(self):\n",
    "        pass\n",
    "\n"
   ]
  },
  {
   "cell_type": "code",
   "execution_count": 7,
   "metadata": {},
   "outputs": [],
   "source": [
    "X_train = pd.DataFrame(data={'Age':[14,20,34],'Height':[160,177,185],'Sex':[0,1,0]})\n",
    "X_train['Death'] = [89,70,95]"
   ]
  },
  {
   "cell_type": "code",
   "execution_count": 8,
   "metadata": {},
   "outputs": [
    {
     "name": "stderr",
     "output_type": "stream",
     "text": [
      "C:\\Users\\homou\\AppData\\Local\\Temp\\ipykernel_7500\\2832433701.py:35: SyntaxWarning: 'int' object is not callable; perhaps you missed a comma?\n",
      "  old_intercept = -2(x_actual + (x_pred*slope + intercept))\n",
      "C:\\Users\\homou\\AppData\\Local\\Temp\\ipykernel_7500\\2832433701.py:35: SyntaxWarning: 'int' object is not callable; perhaps you missed a comma?\n",
      "  old_intercept = -2(x_actual + (x_pred*slope + intercept))\n",
      "C:\\Users\\homou\\AppData\\Local\\Temp\\ipykernel_7500\\2832433701.py:35: SyntaxWarning: 'int' object is not callable; perhaps you missed a comma?\n",
      "  old_intercept = -2(x_actual + (x_pred*slope + intercept))\n",
      "C:\\Users\\homou\\AppData\\Local\\Temp\\ipykernel_7500\\2832433701.py:35: SyntaxWarning: 'int' object is not callable; perhaps you missed a comma?\n",
      "  old_intercept = -2(x_actual + (x_pred*slope + intercept))\n",
      "C:\\Users\\homou\\AppData\\Local\\Temp\\ipykernel_7500\\2832433701.py:35: SyntaxWarning: 'int' object is not callable; perhaps you missed a comma?\n",
      "  old_intercept = -2(x_actual + (x_pred*slope + intercept))\n",
      "C:\\Users\\homou\\AppData\\Local\\Temp\\ipykernel_7500\\2832433701.py:35: SyntaxWarning: 'int' object is not callable; perhaps you missed a comma?\n",
      "  old_intercept = -2(x_actual + (x_pred*slope + intercept))\n"
     ]
    },
    {
     "ename": "AttributeError",
     "evalue": "'numpy.ndarray' object has no attribute 'iloc'",
     "output_type": "error",
     "traceback": [
      "\u001b[1;31m---------------------------------------------------------------------------\u001b[0m",
      "\u001b[1;31mAttributeError\u001b[0m                            Traceback (most recent call last)",
      "\u001b[1;32md:\\Applied ML learning\\first.ipynb Cell 8'\u001b[0m in \u001b[0;36m<module>\u001b[1;34m\u001b[0m\n\u001b[0;32m      <a href='vscode-notebook-cell:/d%3A/Applied%20ML%20learning/first.ipynb#ch0000007?line=0'>1</a>\u001b[0m myreg \u001b[39m=\u001b[39m MultivariateRegression()\n\u001b[1;32m----> <a href='vscode-notebook-cell:/d%3A/Applied%20ML%20learning/first.ipynb#ch0000007?line=1'>2</a>\u001b[0m myreg\u001b[39m.\u001b[39;49mfit(X_train, y_train)\n",
      "\u001b[1;32md:\\Applied ML learning\\first.ipynb Cell 6'\u001b[0m in \u001b[0;36mMultivariateRegression.fit\u001b[1;34m(self, X, y)\u001b[0m\n\u001b[0;32m     <a href='vscode-notebook-cell:/d%3A/Applied%20ML%20learning/first.ipynb#ch0000005?line=20'>21</a>\u001b[0m \u001b[39mdef\u001b[39;00m \u001b[39mfit\u001b[39m(\u001b[39mself\u001b[39m, X, y):\n\u001b[0;32m     <a href='vscode-notebook-cell:/d%3A/Applied%20ML%20learning/first.ipynb#ch0000005?line=21'>22</a>\u001b[0m     \u001b[39mfor\u001b[39;00m i \u001b[39min\u001b[39;00m \u001b[39mrange\u001b[39m(X\u001b[39m.\u001b[39mshape[\u001b[39m1\u001b[39m]):\n\u001b[1;32m---> <a href='vscode-notebook-cell:/d%3A/Applied%20ML%20learning/first.ipynb#ch0000005?line=22'>23</a>\u001b[0m         xy \u001b[39m=\u001b[39m [X\u001b[39m.\u001b[39miloc[:,i]\u001b[39m.\u001b[39mvalues\u001b[39m.\u001b[39miloc[:,i]\u001b[39m*\u001b[39my\u001b[39m.\u001b[39miloc[:,i]\u001b[39m.\u001b[39mvalues\u001b[39m.\u001b[39miloc[:,i] \u001b[39mfor\u001b[39;00m i \u001b[39min\u001b[39;00m \u001b[39mrange\u001b[39m(\u001b[39mlen\u001b[39m(X\u001b[39m.\u001b[39miloc[:,i]\u001b[39m.\u001b[39mvalues))]\n\u001b[0;32m     <a href='vscode-notebook-cell:/d%3A/Applied%20ML%20learning/first.ipynb#ch0000005?line=23'>24</a>\u001b[0m         x_squared \u001b[39m=\u001b[39m [x[\u001b[39m0\u001b[39m]\u001b[39m*\u001b[39m\u001b[39m*\u001b[39m\u001b[39m2\u001b[39m \u001b[39mfor\u001b[39;00m x \u001b[39min\u001b[39;00m X\u001b[39m.\u001b[39miloc[:,i]\u001b[39m.\u001b[39mvalues]\n\u001b[0;32m     <a href='vscode-notebook-cell:/d%3A/Applied%20ML%20learning/first.ipynb#ch0000005?line=24'>25</a>\u001b[0m         n \u001b[39m=\u001b[39m \u001b[39mlen\u001b[39m(X\u001b[39m.\u001b[39mvalues)\n",
      "\u001b[1;32md:\\Applied ML learning\\first.ipynb Cell 6'\u001b[0m in \u001b[0;36m<listcomp>\u001b[1;34m(.0)\u001b[0m\n\u001b[0;32m     <a href='vscode-notebook-cell:/d%3A/Applied%20ML%20learning/first.ipynb#ch0000005?line=20'>21</a>\u001b[0m \u001b[39mdef\u001b[39;00m \u001b[39mfit\u001b[39m(\u001b[39mself\u001b[39m, X, y):\n\u001b[0;32m     <a href='vscode-notebook-cell:/d%3A/Applied%20ML%20learning/first.ipynb#ch0000005?line=21'>22</a>\u001b[0m     \u001b[39mfor\u001b[39;00m i \u001b[39min\u001b[39;00m \u001b[39mrange\u001b[39m(X\u001b[39m.\u001b[39mshape[\u001b[39m1\u001b[39m]):\n\u001b[1;32m---> <a href='vscode-notebook-cell:/d%3A/Applied%20ML%20learning/first.ipynb#ch0000005?line=22'>23</a>\u001b[0m         xy \u001b[39m=\u001b[39m [X\u001b[39m.\u001b[39;49miloc[:,i]\u001b[39m.\u001b[39;49mvalues\u001b[39m.\u001b[39;49miloc[:,i]\u001b[39m*\u001b[39my\u001b[39m.\u001b[39miloc[:,i]\u001b[39m.\u001b[39mvalues\u001b[39m.\u001b[39miloc[:,i] \u001b[39mfor\u001b[39;00m i \u001b[39min\u001b[39;00m \u001b[39mrange\u001b[39m(\u001b[39mlen\u001b[39m(X\u001b[39m.\u001b[39miloc[:,i]\u001b[39m.\u001b[39mvalues))]\n\u001b[0;32m     <a href='vscode-notebook-cell:/d%3A/Applied%20ML%20learning/first.ipynb#ch0000005?line=23'>24</a>\u001b[0m         x_squared \u001b[39m=\u001b[39m [x[\u001b[39m0\u001b[39m]\u001b[39m*\u001b[39m\u001b[39m*\u001b[39m\u001b[39m2\u001b[39m \u001b[39mfor\u001b[39;00m x \u001b[39min\u001b[39;00m X\u001b[39m.\u001b[39miloc[:,i]\u001b[39m.\u001b[39mvalues]\n\u001b[0;32m     <a href='vscode-notebook-cell:/d%3A/Applied%20ML%20learning/first.ipynb#ch0000005?line=24'>25</a>\u001b[0m         n \u001b[39m=\u001b[39m \u001b[39mlen\u001b[39m(X\u001b[39m.\u001b[39mvalues)\n",
      "\u001b[1;31mAttributeError\u001b[0m: 'numpy.ndarray' object has no attribute 'iloc'"
     ]
    }
   ],
   "source": [
    "myreg = MultivariateRegression()\n",
    "myreg.fit(X_train, y_train)"
   ]
  },
  {
   "cell_type": "code",
   "execution_count": null,
   "metadata": {},
   "outputs": [
    {
     "data": {
      "text/html": [
       "<div>\n",
       "<style scoped>\n",
       "    .dataframe tbody tr th:only-of-type {\n",
       "        vertical-align: middle;\n",
       "    }\n",
       "\n",
       "    .dataframe tbody tr th {\n",
       "        vertical-align: top;\n",
       "    }\n",
       "\n",
       "    .dataframe thead th {\n",
       "        text-align: right;\n",
       "    }\n",
       "</style>\n",
       "<table border=\"1\" class=\"dataframe\">\n",
       "  <thead>\n",
       "    <tr style=\"text-align: right;\">\n",
       "      <th></th>\n",
       "      <th>Sex</th>\n",
       "    </tr>\n",
       "  </thead>\n",
       "  <tbody>\n",
       "    <tr>\n",
       "      <th>0</th>\n",
       "      <td>0</td>\n",
       "    </tr>\n",
       "    <tr>\n",
       "      <th>1</th>\n",
       "      <td>1</td>\n",
       "    </tr>\n",
       "    <tr>\n",
       "      <th>2</th>\n",
       "      <td>0</td>\n",
       "    </tr>\n",
       "  </tbody>\n",
       "</table>\n",
       "</div>"
      ],
      "text/plain": [
       "   Sex\n",
       "0    0\n",
       "1    1\n",
       "2    0"
      ]
     },
     "metadata": {},
     "output_type": "display_data"
    }
   ],
   "source": [
    "X_train = pd.DataFrame(data={'Age':[14,20,34],'Height':[160,177,185],'Sex':[0,1,0]})\n",
    "X_train['Death'] = [89,70,95]\n",
    "\n",
    "y_train = X_train['Death']\n",
    "X_train.drop(columns=['Death'], inplace=True)\n",
    "\n",
    "X_train = X_train.iloc[:,-1:]\n",
    "X_train"
   ]
  },
  {
   "cell_type": "code",
   "execution_count": null,
   "metadata": {},
   "outputs": [
    {
     "ename": "TypeError",
     "evalue": "apply() got multiple values for argument 'axis'",
     "output_type": "error",
     "traceback": [
      "\u001b[1;31m---------------------------------------------------------------------------\u001b[0m",
      "\u001b[1;31mTypeError\u001b[0m                                 Traceback (most recent call last)",
      "\u001b[1;32md:\\Applied ML learning\\first.ipynb Cell 8'\u001b[0m in \u001b[0;36m<module>\u001b[1;34m\u001b[0m\n\u001b[0;32m      <a href='vscode-notebook-cell:/d%3A/Applied%20ML%20learning/first.ipynb#ch0000009?line=0'>1</a>\u001b[0m myreg \u001b[39m=\u001b[39m MultivariateRegression()\n\u001b[1;32m----> <a href='vscode-notebook-cell:/d%3A/Applied%20ML%20learning/first.ipynb#ch0000009?line=1'>2</a>\u001b[0m myreg\u001b[39m.\u001b[39;49mfit(X_train, y_train)\n\u001b[0;32m      <a href='vscode-notebook-cell:/d%3A/Applied%20ML%20learning/first.ipynb#ch0000009?line=3'>4</a>\u001b[0m \u001b[39m'''y_predicted = myreg.predict()\u001b[39;00m\n\u001b[0;32m      <a href='vscode-notebook-cell:/d%3A/Applied%20ML%20learning/first.ipynb#ch0000009?line=4'>5</a>\u001b[0m \n\u001b[0;32m      <a href='vscode-notebook-cell:/d%3A/Applied%20ML%20learning/first.ipynb#ch0000009?line=5'>6</a>\u001b[0m \u001b[39mplt.scatter(X_train, y_train)\u001b[39;00m\n\u001b[0;32m      <a href='vscode-notebook-cell:/d%3A/Applied%20ML%20learning/first.ipynb#ch0000009?line=6'>7</a>\u001b[0m \u001b[39mplt.plot(y_predicted,y_predicted, color='red')'''\u001b[39;00m\n",
      "\u001b[1;32md:\\Applied ML learning\\first.ipynb Cell 6'\u001b[0m in \u001b[0;36mMultivariateRegression.fit\u001b[1;34m(self, X, y)\u001b[0m\n\u001b[0;32m     <a href='vscode-notebook-cell:/d%3A/Applied%20ML%20learning/first.ipynb#ch0000007?line=20'>21</a>\u001b[0m \u001b[39mdef\u001b[39;00m \u001b[39mfit\u001b[39m(\u001b[39mself\u001b[39m, X, y):\n\u001b[1;32m---> <a href='vscode-notebook-cell:/d%3A/Applied%20ML%20learning/first.ipynb#ch0000007?line=21'>22</a>\u001b[0m     X \u001b[39m=\u001b[39m X\u001b[39m.\u001b[39;49mapply(MultivariateRegression\u001b[39m.\u001b[39;49msimple_fit, y,axis\u001b[39m=\u001b[39;49m\u001b[39m1\u001b[39;49m)\n\u001b[0;32m     <a href='vscode-notebook-cell:/d%3A/Applied%20ML%20learning/first.ipynb#ch0000007?line=22'>23</a>\u001b[0m     \u001b[39mreturn\u001b[39;00m X\n",
      "\u001b[1;31mTypeError\u001b[0m: apply() got multiple values for argument 'axis'"
     ]
    }
   ],
   "source": [
    "myreg = MultivariateRegression()\n",
    "myreg.fit(X_train, y_train)\n",
    "\n",
    "'''y_predicted = myreg.predict()\n",
    "\n",
    "plt.scatter(X_train, y_train)\n",
    "plt.plot(y_predicted,y_predicted, color='red')'''\n"
   ]
  },
  {
   "cell_type": "code",
   "execution_count": null,
   "metadata": {},
   "outputs": [],
   "source": [
    "import pandas as pd\n",
    "\n",
    "#df.iloc[0][[\"Verdict\", \"Comment\", \"StartTime\", \"EndTime\", \"Duration\"]] = ['', '', '', '', '']\n",
    "df = X_train.iloc[:,:3]\n",
    "df.iloc[1] = [0,1,2]\n"
   ]
  },
  {
   "cell_type": "code",
   "execution_count": null,
   "metadata": {},
   "outputs": [
    {
     "data": {
      "text/html": [
       "<div>\n",
       "<style scoped>\n",
       "    .dataframe tbody tr th:only-of-type {\n",
       "        vertical-align: middle;\n",
       "    }\n",
       "\n",
       "    .dataframe tbody tr th {\n",
       "        vertical-align: top;\n",
       "    }\n",
       "\n",
       "    .dataframe thead th {\n",
       "        text-align: right;\n",
       "    }\n",
       "</style>\n",
       "<table border=\"1\" class=\"dataframe\">\n",
       "  <thead>\n",
       "    <tr style=\"text-align: right;\">\n",
       "      <th></th>\n",
       "      <th>brand</th>\n",
       "      <th>style</th>\n",
       "      <th>rating</th>\n",
       "    </tr>\n",
       "  </thead>\n",
       "  <tbody>\n",
       "    <tr>\n",
       "      <th>0</th>\n",
       "      <td>Yum Yum</td>\n",
       "      <td>cup</td>\n",
       "      <td>4.0</td>\n",
       "    </tr>\n",
       "    <tr>\n",
       "      <th>1</th>\n",
       "      <td>Yum Yum</td>\n",
       "      <td>cup</td>\n",
       "      <td>4.0</td>\n",
       "    </tr>\n",
       "    <tr>\n",
       "      <th>2</th>\n",
       "      <td>Indomie</td>\n",
       "      <td>cup</td>\n",
       "      <td>3.5</td>\n",
       "    </tr>\n",
       "    <tr>\n",
       "      <th>3</th>\n",
       "      <td>Indomie</td>\n",
       "      <td>pack</td>\n",
       "      <td>15.0</td>\n",
       "    </tr>\n",
       "    <tr>\n",
       "      <th>4</th>\n",
       "      <td>Indomie</td>\n",
       "      <td>pack</td>\n",
       "      <td>5.0</td>\n",
       "    </tr>\n",
       "  </tbody>\n",
       "</table>\n",
       "</div>"
      ],
      "text/plain": [
       "     brand style  rating\n",
       "0  Yum Yum   cup     4.0\n",
       "1  Yum Yum   cup     4.0\n",
       "2  Indomie   cup     3.5\n",
       "3  Indomie  pack    15.0\n",
       "4  Indomie  pack     5.0"
      ]
     },
     "execution_count": 1,
     "metadata": {},
     "output_type": "execute_result"
    }
   ],
   "source": [
    "import pandas as pd\n",
    "\n",
    "df = pd.DataFrame({\n",
    "    'brand': ['Yum Yum', 'Yum Yum', 'Indomie', 'Indomie', 'Indomie'],\n",
    "    'style': ['cup', 'cup', 'cup', 'pack', 'pack'],\n",
    "    'rating': [4, 4, 3.5, 15, 5]\n",
    "})\n",
    "\n",
    "for zalupa in df.iterrows():\n",
    "    zalupa = [0,0,0]\n",
    "\n",
    "df"
   ]
  },
  {
   "cell_type": "code",
   "execution_count": null,
   "metadata": {},
   "outputs": [],
   "source": []
  }
 ],
 "metadata": {
  "interpreter": {
   "hash": "7a8ccd63795149f5b6a64cd874946f7ab87af296b69e75f89a662bb3c1cf6dbc"
  },
  "kernelspec": {
   "display_name": "Python 3.9.7 64-bit",
   "language": "python",
   "name": "python3"
  },
  "language_info": {
   "codemirror_mode": {
    "name": "ipython",
    "version": 3
   },
   "file_extension": ".py",
   "mimetype": "text/x-python",
   "name": "python",
   "nbconvert_exporter": "python",
   "pygments_lexer": "ipython3",
   "version": "3.9.7"
  },
  "orig_nbformat": 4
 },
 "nbformat": 4,
 "nbformat_minor": 2
}
