{
 "cells": [
  {
   "cell_type": "markdown",
   "metadata": {},
   "source": [
    "<h3>Doing real-data regression using sklearn tools</h3>"
   ]
  },
  {
   "cell_type": "code",
   "execution_count": null,
   "metadata": {},
   "outputs": [],
   "source": [
    "import pandas as pd\n",
    "import numpy as np\n",
    "import matplotlib.pyplot as plt\n",
    "import seaborn as sn\n",
    "from sklearn.linear_model import LinearRegression\n",
    "from sklearn.metrics import mean_squared_error, r2_score, mean_absolute_error\n",
    "from sklearn.impute import SimpleImputer\n",
    "from sklearn.model_selection import train_test_split\n",
    "\n",
    "df = pd.read_csv(r'D:\\Applied ML learning\\Linear_regression\\train.csv')\n",
    "\n",
    "X_train, X_test, y_train, y_test = train_test_split(df, df['SalePrice'], test_size=0.3, random_state=0)"
   ]
  },
  {
   "cell_type": "code",
   "execution_count": null,
   "metadata": {},
   "outputs": [],
   "source": [
    "X_train = (\n",
    "    X_train\n",
    "    .reset_index().drop('index',axis=1)\n",
    "    .select_dtypes(exclude=['object'])\n",
    "    .drop('Id',axis=1)\n",
    "    .drop('SalePrice',axis=1)\n",
    ")"
   ]
  },
  {
   "cell_type": "code",
   "execution_count": null,
   "metadata": {},
   "outputs": [],
   "source": [
    "X_train = (\n",
    "    X_train\n",
    "    .reset_index().drop('index',axis=1)\n",
    "    .select_dtypes(exclude=['object'])\n",
    "    .drop('Id',axis=1)\n",
    "    .drop('SalePrice',axis=1)\n",
    ")"
   ]
  },
  {
   "cell_type": "code",
   "execution_count": null,
   "metadata": {},
   "outputs": [],
   "source": [
    "imputer = SimpleImputer(strategy='median')\n",
    "X_train = imputer.fit_transform(X_train)"
   ]
  },
  {
   "cell_type": "code",
   "execution_count": null,
   "metadata": {},
   "outputs": [],
   "source": [
    "X_test = (\n",
    "    X_test\n",
    "    .reset_index().drop('index',axis=1)\n",
    "    .select_dtypes(exclude=['object'])\n",
    "    .drop('Id',axis=1)\n",
    "    .drop('SalePrice',axis=1)\n",
    ")"
   ]
  },
  {
   "cell_type": "code",
   "execution_count": null,
   "metadata": {},
   "outputs": [],
   "source": [
    "imputer = SimpleImputer(strategy='median')\n",
    "X_test  = imputer.fit_transform(X_test)"
   ]
  },
  {
   "cell_type": "code",
   "execution_count": null,
   "metadata": {},
   "outputs": [],
   "source": [
    "reg = LinearRegression()\n",
    "reg.fit(X_train, y_train)\n",
    "y_predicted = reg.predict(X_test)\n",
    "reg.score(X_test, y_test)"
   ]
  },
  {
   "cell_type": "markdown",
   "metadata": {},
   "source": [
    "<H3>Developing of my own linear regression algorithm</H3>"
   ]
  },
  {
   "cell_type": "code",
   "execution_count": 112,
   "metadata": {},
   "outputs": [],
   "source": [
    "class MultivariateRegression:\n",
    "    def __init__(self):\n",
    "        self.residuals, self.slope, self.intercept, self.error = ([] for _ in range(4))\n",
    "        self.score = 0        \n",
    "        \n",
    "    def fit(self, X_all, y):          \n",
    "        def fit_array(X, k, y):\n",
    "            x_mean = np.mean(X)\n",
    "            y_mean = np.mean(y)\n",
    "\n",
    "            self.residuals.append(sum([yi - y_mean for yi in y]))\n",
    "\n",
    "            xy   = sum([xi*yi for (xi,yi) in zip(X,y)])\n",
    "            SSxy = (xy - sum(X)*sum(y)) / len(X)\n",
    "            SSxx = (sum(X)**2) - ((sum(X)**2)/2)\n",
    "\n",
    "            self.slope.append(SSxy/SSxx)\n",
    "            self.intercept.append(y_mean - self.slope[k]*x_mean)\n",
    "                        \n",
    "            self.error.append([(yi - (self.slope[k]*xi + self.intercept[k]))**2 for (xi,yi) in zip(X,y)])                       \n",
    "                    \n",
    "        for column, i in zip(X_all.T, range(X_all.shape[1])):        \n",
    "            fit_array(column, i, y)     \n",
    "               \n",
    "        self.score = 1 - (np.mean(self.error) / (np.prod(self.residuals)**2))\n",
    "        self.error = np.mean(self.error[0])\n",
    "\n",
    "    def predict(self, *X):\n",
    "        X = X[0]    \n",
    "        _slope = sum(self.slope) / len(self.slope)\n",
    "        _intercept = sum(self.intercept)/ len(self.intercept)\n",
    "        \n",
    "        if type(X) == (pd.Series or list ):\n",
    "            return [(_slope*xi + _intercept) for xi in X]\n",
    "                \n",
    "        return (_slope*X + _intercept)  \n",
    "\n",
    "    '''def gradient_descent(x_actual, x_pred, intercept, slope, L=0.01):\n",
    "        old_intercept = -2(x_actual + (x_pred*slope + intercept))\n",
    "        step_size = old_intercept*L\n",
    "        new_intercept = old_intercept-step_size\n",
    "\n",
    "        step_size_limit = 0.001\n",
    "        step_num_limit  = 1000\n",
    "        if step_size >= step_size_limit & 0 >= step_num_limit:\n",
    "            pass\n",
    "       \n",
    "        return 0'''"
   ]
  },
  {
   "cell_type": "code",
   "execution_count": 117,
   "metadata": {},
   "outputs": [],
   "source": [
    "import pandas as pd\n",
    "import numpy as np\n",
    "import matplotlib.pyplot as plt\n",
    "import seaborn as sn\n",
    "from sklearn.linear_model import LinearRegression\n",
    "from sklearn.metrics import mean_squared_error, r2_score, mean_absolute_error\n",
    "from sklearn.impute import SimpleImputer\n",
    "from sklearn.model_selection import train_test_split\n",
    "\n",
    "df = pd.read_csv(r'D:\\Applied ML learning\\Linear_regression\\Data.csv')\n",
    "df = df.drop([360,811],axis=0)\n",
    "\n",
    "#X_train, X_test, y_train, y_test = train_test_split(df[['Rainfall','Hospital_dist']], df.Price_house, train_size=0.7, random_state=0)\n",
    "X_train, X_test, y_train, y_test = train_test_split(df['Rainfall'].values.reshape(-1,1), df.Price_house, train_size=0.7, random_state=0)"
   ]
  },
  {
   "cell_type": "code",
   "execution_count": 118,
   "metadata": {},
   "outputs": [],
   "source": [
    "X_train = SimpleImputer(strategy='median').fit_transform(X_train)\n",
    "X_test  = SimpleImputer(strategy='median').fit_transform(X_test)"
   ]
  },
  {
   "cell_type": "code",
   "execution_count": 145,
   "metadata": {},
   "outputs": [
    {
     "data": {
      "text/plain": [
       "-5.143760529400945e+24"
      ]
     },
     "execution_count": 145,
     "metadata": {},
     "output_type": "execute_result"
    }
   ],
   "source": [
    "myreg = MultivariateRegression()\n",
    "myreg.fit(X_train, y_train)\n",
    "y_pred = myreg.predict(X_test)\n",
    "myreg.score"
   ]
  },
  {
   "cell_type": "code",
   "execution_count": 186,
   "metadata": {},
   "outputs": [
    {
     "data": {
      "text/plain": [
       "<matplotlib.legend.Legend at 0x1f21fbb1fd0>"
      ]
     },
     "execution_count": 186,
     "metadata": {},
     "output_type": "execute_result"
    },
    {
     "data": {
      "image/png": "[encoded data removed]",
      "text/plain": [
       "<Figure size 432x288 with 1 Axes>"
      ]
     },
     "metadata": {
      "needs_background": "light"
     },
     "output_type": "display_data"
    }
   ],
   "source": [
    "'''fig, ax = plt.subplots()\n",
    "ax.legend(['regression line', 'data'], )\n",
    "ax.scatter\n",
    "ax.plot'''\n",
    "\n",
    "plt.scatter(X_test, y_test)\n",
    "plt.plot(X_test, y_pred, c='r',linewidth=3.0)\n",
    "plt.legend(['data points','regression'], loc='upper right')"
   ]
  },
  {
   "cell_type": "code",
   "execution_count": null,
   "metadata": {},
   "outputs": [],
   "source": []
  }
 ],
 "metadata": {
  "interpreter": {
   "hash": "7a8ccd63795149f5b6a64cd874946f7ab87af296b69e75f89a662bb3c1cf6dbc"
  },
  "kernelspec": {
   "display_name": "Python 3.9.7 64-bit",
   "language": "python",
   "name": "python3"
  },
  "language_info": {
   "codemirror_mode": {
    "name": "ipython",
    "version": 3
   },
   "file_extension": ".py",
   "mimetype": "text/x-python",
   "name": "python",
   "nbconvert_exporter": "python",
   "pygments_lexer": "ipython3",
   "version": "3.9.7"
  },
  "orig_nbformat": 4
 },
 "nbformat": 4,
 "nbformat_minor": 2
}
