{
 "cells": [
  {
   "cell_type": "code",
   "execution_count": 1,
   "metadata": {},
   "outputs": [],
   "source": [
    "import pandas as pd\n",
    "import numpy as np\n",
    "import matplotlib.pyplot as plt\n",
    "import seaborn as sn\n",
    "from sklearn.linear_model import LinearRegression\n",
    "from sklearn.metrics import mean_squared_error, r2_score, mean_absolute_error\n",
    "from sklearn.impute import SimpleImputer\n",
    "from sklearn.model_selection import train_test_split\n",
    "\n",
    "df = pd.read_csv(r'D:\\Applied ML learning\\datasets\\house_pricing\\train.csv')\n",
    "\n",
    "X_train, X_test, y_train, y_test = train_test_split(df, df['SalePrice'], test_size=0.3, random_state=0)"
   ]
  },
  {
   "cell_type": "code",
   "execution_count": 2,
   "metadata": {},
   "outputs": [],
   "source": [
    "X_train = (\n",
    "    X_train\n",
    "    .reset_index().drop('index',axis=1)\n",
    "    .select_dtypes(exclude=['object'])\n",
    "    .drop('Id',axis=1)\n",
    "    .drop('SalePrice',axis=1)\n",
    ")"
   ]
  },
  {
   "cell_type": "code",
   "execution_count": 3,
   "metadata": {},
   "outputs": [],
   "source": [
    "imputer = SimpleImputer(strategy='median')\n",
    "X_train = imputer.fit_transform(X_train)"
   ]
  },
  {
   "cell_type": "code",
   "execution_count": 4,
   "metadata": {},
   "outputs": [],
   "source": [
    "X_test = (\n",
    "    X_test\n",
    "    .reset_index().drop('index',axis=1)\n",
    "    .select_dtypes(exclude=['object'])\n",
    "    .drop('Id',axis=1)\n",
    "    .drop('SalePrice',axis=1)\n",
    ")"
   ]
  },
  {
   "cell_type": "code",
   "execution_count": 5,
   "metadata": {},
   "outputs": [],
   "source": [
    "imputer = SimpleImputer(strategy='median')\n",
    "X_test = imputer.fit_transform(X_test)"
   ]
  },
  {
   "cell_type": "code",
   "execution_count": null,
   "metadata": {},
   "outputs": [],
   "source": [
    "reg = LinearRegression()\n",
    "reg.fit(X_train, y_train)\n",
    "y_predicted = reg.predict(X_test)\n",
    "reg.score(X_test, y_test)"
   ]
  },
  {
   "cell_type": "code",
   "execution_count": 1,
   "metadata": {},
   "outputs": [],
   "source": [
    "import pandas as pd\n",
    "import numpy as np\n",
    "import matplotlib.pyplot as plt\n",
    "import seaborn as sn\n",
    "from sklearn.linear_model import LinearRegression\n",
    "from sklearn.metrics import mean_squared_error, r2_score, mean_absolute_error\n",
    "from sklearn.impute import SimpleImputer\n",
    "from sklearn.model_selection import train_test_split\n",
    "\n",
    "df = pd.read_csv(r'D:\\Applied ML learning\\datasets\\house_pricing\\train.csv')\n",
    "\n",
    "X_train, X_test, y_train, y_test = train_test_split(df, df['SalePrice'], test_size=0.3, random_state=0)\n",
    "\n",
    "X_train = X_train['LotArea']\n",
    "X_test = X_test['LotArea']"
   ]
  },
  {
   "cell_type": "code",
   "execution_count": 6,
   "metadata": {},
   "outputs": [],
   "source": [
    "class MultivariateRegression:\n",
    "    def __init__(self):\n",
    "        # TODO: finish regression analysis part\n",
    "        self.score = 0\n",
    "        self.coeffs = 0\n",
    "        self.residuals = 0\n",
    "\n",
    "        self.slope = 0\n",
    "        self.intercept = 0\n",
    "\n",
    "    def fit(self, X, y):\n",
    "        x_mean = X.mean()\n",
    "        y_mean = y.mean()\n",
    "\n",
    "        self.residuals = sum([value - y_mean for value in y])\n",
    "\n",
    "        n = X.shape[0]\n",
    "\n",
    "        SSxy = (sum([X.iloc[i]*y.iloc[i] for i in range(len(X))]) - sum([xi for xi in X])*sum([yi for yi in y])) / n\n",
    "        SSxx = sum([xi for xi in X])**2 - (sum([xi for xi in X])**2)/2\n",
    "        self.slope = SSxy/SSxx\n",
    "\n",
    "        self.intercept = y_mean - self.slope*x_mean\n",
    "        \n",
    "        self.score  = 1 - (sum([(yi - self.predict(yi)[0])**2 for yi in y]) / sum(([(yi - y_mean)**2 for yi in y])))\n",
    "        self.coeffs = (self.intercept, self.slope)\n",
    "\n",
    "    def fit_multi(self, X_all, y):\n",
    "        # TODO: how many iterations should be done and what defines model's goodness?\n",
    "        # what is loop's condition to stop iteration process?\n",
    "        # how to reduce error? learning rate? how to change parameters during fitting?\n",
    "        for column in X_all.T:\n",
    "            X = column\n",
    "            \n",
    "            x_mean = np.mean(X)\n",
    "            y_mean = np.mean(y)\n",
    "\n",
    "            self.residuals = sum([value - y_mean for value in y])\n",
    "\n",
    "            n = len(X)\n",
    "\n",
    "            SSxy = (sum([X[i]*y[i] for i in range(len(X))]) - sum([xi for xi in X])*sum([yi for yi in y])) / n\n",
    "            SSxx = sum([xi for xi in X])**2 - (sum([xi for xi in X])**2)/2\n",
    "            self.slope = SSxy/SSxx\n",
    "\n",
    "            self.intercept = y_mean - self.slope*x_mean\n",
    "            \n",
    "            self.score  = 1 - (sum([(yi - self.predict(yi)[0])**2 for yi in y]) / sum(([(yi - y_mean)**2 for yi in y])))\n",
    "            self.coeffs = (self.intercept, self.slope)\n",
    "    \n",
    "    def predict(self, *X):\n",
    "        if type(X[0]) == pd.Series:\n",
    "            X = X[0]\n",
    "            y_pred = pd.Series([(self.slope*xi)+self.intercept for xi in X])\n",
    "        \n",
    "        y_pred = [(self.slope*xi+self.intercept) for xi in X]\n",
    "        return y_pred\n",
    "\n",
    "\n",
    "    '''def fit(self, X, y):\n",
    "        for i in range(X.shape[1]):\n",
    "            xy = [X.iloc[:,i].values.iloc[:,i]*y.iloc[:,i].values.iloc[:,i] for i in range(len(X.iloc[:,i].values))]\n",
    "            x_squared = [x[0]**2 for x in X.iloc[:,i].values]\n",
    "            n = len(X.values)\n",
    "\n",
    "            m = (n*sum(xy)-sum(X.iloc[:,i].values)*sum(y.iloc[:,i].values))/(n*sum(x_squared)-(sum(X.iloc[:,i].values)**2))\n",
    "            b = ((sum(y.iloc[:,i].values)-m*sum(X.iloc[:,i].values))/n)\n",
    "\n",
    "            y = [(m*x[0]+b) for x in X.iloc[:,i].values]\n",
    "\n",
    "        return y'''\n",
    "\n",
    "    '''def gradient_descent(x_actual, x_pred, intercept, slope, L=0.01):\n",
    "        old_intercept = -2(x_actual + (x_pred*slope + intercept))\n",
    "        step_size = old_intercept*L\n",
    "        new_intercept = old_intercept-step_size\n",
    "\n",
    "        step_size_limit = 0.001\n",
    "        step_num_limit  = 1000\n",
    "        if step_size >= step_size_limit & 0 >= step_num_limit:\n",
    "            pass\n",
    "       \n",
    "        return 0'''\n"
   ]
  },
  {
   "cell_type": "code",
   "execution_count": 7,
   "metadata": {},
   "outputs": [
    {
     "ename": "KeyError",
     "evalue": "1",
     "output_type": "error",
     "traceback": [
      "\u001b[1;31m---------------------------------------------------------------------------\u001b[0m",
      "\u001b[1;31mKeyError\u001b[0m                                  Traceback (most recent call last)",
      "File \u001b[1;32md:\\System\\Python\\lib\\site-packages\\pandas\\core\\indexes\\base.py:3621\u001b[0m, in \u001b[0;36mIndex.get_loc\u001b[1;34m(self, key, method, tolerance)\u001b[0m\n\u001b[0;32m   3620\u001b[0m \u001b[39mtry\u001b[39;00m:\n\u001b[1;32m-> 3621\u001b[0m     \u001b[39mreturn\u001b[39;00m \u001b[39mself\u001b[39;49m\u001b[39m.\u001b[39;49m_engine\u001b[39m.\u001b[39;49mget_loc(casted_key)\n\u001b[0;32m   3622\u001b[0m \u001b[39mexcept\u001b[39;00m \u001b[39mKeyError\u001b[39;00m \u001b[39mas\u001b[39;00m err:\n",
      "File \u001b[1;32md:\\System\\Python\\lib\\site-packages\\pandas\\_libs\\index.pyx:136\u001b[0m, in \u001b[0;36mpandas._libs.index.IndexEngine.get_loc\u001b[1;34m()\u001b[0m\n",
      "File \u001b[1;32md:\\System\\Python\\lib\\site-packages\\pandas\\_libs\\index.pyx:163\u001b[0m, in \u001b[0;36mpandas._libs.index.IndexEngine.get_loc\u001b[1;34m()\u001b[0m\n",
      "File \u001b[1;32mpandas\\_libs\\hashtable_class_helper.pxi:2131\u001b[0m, in \u001b[0;36mpandas._libs.hashtable.Int64HashTable.get_item\u001b[1;34m()\u001b[0m\n",
      "File \u001b[1;32mpandas\\_libs\\hashtable_class_helper.pxi:2140\u001b[0m, in \u001b[0;36mpandas._libs.hashtable.Int64HashTable.get_item\u001b[1;34m()\u001b[0m\n",
      "\u001b[1;31mKeyError\u001b[0m: 1",
      "\nThe above exception was the direct cause of the following exception:\n",
      "\u001b[1;31mKeyError\u001b[0m                                  Traceback (most recent call last)",
      "\u001b[1;32md:\\Applied ML learning\\first.ipynb Cell 9'\u001b[0m in \u001b[0;36m<module>\u001b[1;34m\u001b[0m\n\u001b[0;32m      <a href='vscode-notebook-cell:/d%3A/Applied%20ML%20learning/first.ipynb#ch0000008?line=0'>1</a>\u001b[0m myreg \u001b[39m=\u001b[39m MultivariateRegression()\n\u001b[1;32m----> <a href='vscode-notebook-cell:/d%3A/Applied%20ML%20learning/first.ipynb#ch0000008?line=1'>2</a>\u001b[0m myreg\u001b[39m.\u001b[39;49mfit_multi(X_train, y_train)\n",
      "\u001b[1;32md:\\Applied ML learning\\first.ipynb Cell 8'\u001b[0m in \u001b[0;36mMultivariateRegression.fit_multi\u001b[1;34m(self, X_all, y)\u001b[0m\n\u001b[0;32m     <a href='vscode-notebook-cell:/d%3A/Applied%20ML%20learning/first.ipynb#ch0000007?line=34'>35</a>\u001b[0m \u001b[39mself\u001b[39m\u001b[39m.\u001b[39mresiduals \u001b[39m=\u001b[39m \u001b[39msum\u001b[39m([value \u001b[39m-\u001b[39m y_mean \u001b[39mfor\u001b[39;00m value \u001b[39min\u001b[39;00m y])\n\u001b[0;32m     <a href='vscode-notebook-cell:/d%3A/Applied%20ML%20learning/first.ipynb#ch0000007?line=36'>37</a>\u001b[0m n \u001b[39m=\u001b[39m \u001b[39mlen\u001b[39m(X)\n\u001b[1;32m---> <a href='vscode-notebook-cell:/d%3A/Applied%20ML%20learning/first.ipynb#ch0000007?line=38'>39</a>\u001b[0m SSxy \u001b[39m=\u001b[39m (\u001b[39msum\u001b[39m([X[i]\u001b[39m*\u001b[39my[i] \u001b[39mfor\u001b[39;00m i \u001b[39min\u001b[39;00m \u001b[39mrange\u001b[39m(\u001b[39mlen\u001b[39m(X))]) \u001b[39m-\u001b[39m \u001b[39msum\u001b[39m([xi \u001b[39mfor\u001b[39;00m xi \u001b[39min\u001b[39;00m X])\u001b[39m*\u001b[39m\u001b[39msum\u001b[39m([yi \u001b[39mfor\u001b[39;00m yi \u001b[39min\u001b[39;00m y])) \u001b[39m/\u001b[39m n\n\u001b[0;32m     <a href='vscode-notebook-cell:/d%3A/Applied%20ML%20learning/first.ipynb#ch0000007?line=39'>40</a>\u001b[0m SSxx \u001b[39m=\u001b[39m \u001b[39msum\u001b[39m([xi \u001b[39mfor\u001b[39;00m xi \u001b[39min\u001b[39;00m X])\u001b[39m*\u001b[39m\u001b[39m*\u001b[39m\u001b[39m2\u001b[39m \u001b[39m-\u001b[39m (\u001b[39msum\u001b[39m([xi \u001b[39mfor\u001b[39;00m xi \u001b[39min\u001b[39;00m X])\u001b[39m*\u001b[39m\u001b[39m*\u001b[39m\u001b[39m2\u001b[39m)\u001b[39m/\u001b[39m\u001b[39m2\u001b[39m\n\u001b[0;32m     <a href='vscode-notebook-cell:/d%3A/Applied%20ML%20learning/first.ipynb#ch0000007?line=40'>41</a>\u001b[0m \u001b[39mself\u001b[39m\u001b[39m.\u001b[39mslope \u001b[39m=\u001b[39m SSxy\u001b[39m/\u001b[39mSSxx\n",
      "\u001b[1;32md:\\Applied ML learning\\first.ipynb Cell 8'\u001b[0m in \u001b[0;36m<listcomp>\u001b[1;34m(.0)\u001b[0m\n\u001b[0;32m     <a href='vscode-notebook-cell:/d%3A/Applied%20ML%20learning/first.ipynb#ch0000007?line=34'>35</a>\u001b[0m \u001b[39mself\u001b[39m\u001b[39m.\u001b[39mresiduals \u001b[39m=\u001b[39m \u001b[39msum\u001b[39m([value \u001b[39m-\u001b[39m y_mean \u001b[39mfor\u001b[39;00m value \u001b[39min\u001b[39;00m y])\n\u001b[0;32m     <a href='vscode-notebook-cell:/d%3A/Applied%20ML%20learning/first.ipynb#ch0000007?line=36'>37</a>\u001b[0m n \u001b[39m=\u001b[39m \u001b[39mlen\u001b[39m(X)\n\u001b[1;32m---> <a href='vscode-notebook-cell:/d%3A/Applied%20ML%20learning/first.ipynb#ch0000007?line=38'>39</a>\u001b[0m SSxy \u001b[39m=\u001b[39m (\u001b[39msum\u001b[39m([X[i]\u001b[39m*\u001b[39my[i] \u001b[39mfor\u001b[39;00m i \u001b[39min\u001b[39;00m \u001b[39mrange\u001b[39m(\u001b[39mlen\u001b[39m(X))]) \u001b[39m-\u001b[39m \u001b[39msum\u001b[39m([xi \u001b[39mfor\u001b[39;00m xi \u001b[39min\u001b[39;00m X])\u001b[39m*\u001b[39m\u001b[39msum\u001b[39m([yi \u001b[39mfor\u001b[39;00m yi \u001b[39min\u001b[39;00m y])) \u001b[39m/\u001b[39m n\n\u001b[0;32m     <a href='vscode-notebook-cell:/d%3A/Applied%20ML%20learning/first.ipynb#ch0000007?line=39'>40</a>\u001b[0m SSxx \u001b[39m=\u001b[39m \u001b[39msum\u001b[39m([xi \u001b[39mfor\u001b[39;00m xi \u001b[39min\u001b[39;00m X])\u001b[39m*\u001b[39m\u001b[39m*\u001b[39m\u001b[39m2\u001b[39m \u001b[39m-\u001b[39m (\u001b[39msum\u001b[39m([xi \u001b[39mfor\u001b[39;00m xi \u001b[39min\u001b[39;00m X])\u001b[39m*\u001b[39m\u001b[39m*\u001b[39m\u001b[39m2\u001b[39m)\u001b[39m/\u001b[39m\u001b[39m2\u001b[39m\n\u001b[0;32m     <a href='vscode-notebook-cell:/d%3A/Applied%20ML%20learning/first.ipynb#ch0000007?line=40'>41</a>\u001b[0m \u001b[39mself\u001b[39m\u001b[39m.\u001b[39mslope \u001b[39m=\u001b[39m SSxy\u001b[39m/\u001b[39mSSxx\n",
      "File \u001b[1;32md:\\System\\Python\\lib\\site-packages\\pandas\\core\\series.py:958\u001b[0m, in \u001b[0;36mSeries.__getitem__\u001b[1;34m(self, key)\u001b[0m\n\u001b[0;32m    955\u001b[0m     \u001b[39mreturn\u001b[39;00m \u001b[39mself\u001b[39m\u001b[39m.\u001b[39m_values[key]\n\u001b[0;32m    957\u001b[0m \u001b[39melif\u001b[39;00m key_is_scalar:\n\u001b[1;32m--> 958\u001b[0m     \u001b[39mreturn\u001b[39;00m \u001b[39mself\u001b[39;49m\u001b[39m.\u001b[39;49m_get_value(key)\n\u001b[0;32m    960\u001b[0m \u001b[39mif\u001b[39;00m is_hashable(key):\n\u001b[0;32m    961\u001b[0m     \u001b[39m# Otherwise index.get_value will raise InvalidIndexError\u001b[39;00m\n\u001b[0;32m    962\u001b[0m     \u001b[39mtry\u001b[39;00m:\n\u001b[0;32m    963\u001b[0m         \u001b[39m# For labels that don't resolve as scalars like tuples and frozensets\u001b[39;00m\n",
      "File \u001b[1;32md:\\System\\Python\\lib\\site-packages\\pandas\\core\\series.py:1069\u001b[0m, in \u001b[0;36mSeries._get_value\u001b[1;34m(self, label, takeable)\u001b[0m\n\u001b[0;32m   1066\u001b[0m     \u001b[39mreturn\u001b[39;00m \u001b[39mself\u001b[39m\u001b[39m.\u001b[39m_values[label]\n\u001b[0;32m   1068\u001b[0m \u001b[39m# Similar to Index.get_value, but we do not fall back to positional\u001b[39;00m\n\u001b[1;32m-> 1069\u001b[0m loc \u001b[39m=\u001b[39m \u001b[39mself\u001b[39;49m\u001b[39m.\u001b[39;49mindex\u001b[39m.\u001b[39;49mget_loc(label)\n\u001b[0;32m   1070\u001b[0m \u001b[39mreturn\u001b[39;00m \u001b[39mself\u001b[39m\u001b[39m.\u001b[39mindex\u001b[39m.\u001b[39m_get_values_for_loc(\u001b[39mself\u001b[39m, loc, label)\n",
      "File \u001b[1;32md:\\System\\Python\\lib\\site-packages\\pandas\\core\\indexes\\base.py:3623\u001b[0m, in \u001b[0;36mIndex.get_loc\u001b[1;34m(self, key, method, tolerance)\u001b[0m\n\u001b[0;32m   3621\u001b[0m     \u001b[39mreturn\u001b[39;00m \u001b[39mself\u001b[39m\u001b[39m.\u001b[39m_engine\u001b[39m.\u001b[39mget_loc(casted_key)\n\u001b[0;32m   3622\u001b[0m \u001b[39mexcept\u001b[39;00m \u001b[39mKeyError\u001b[39;00m \u001b[39mas\u001b[39;00m err:\n\u001b[1;32m-> 3623\u001b[0m     \u001b[39mraise\u001b[39;00m \u001b[39mKeyError\u001b[39;00m(key) \u001b[39mfrom\u001b[39;00m \u001b[39merr\u001b[39;00m\n\u001b[0;32m   3624\u001b[0m \u001b[39mexcept\u001b[39;00m \u001b[39mTypeError\u001b[39;00m:\n\u001b[0;32m   3625\u001b[0m     \u001b[39m# If we have a listlike key, _check_indexing_error will raise\u001b[39;00m\n\u001b[0;32m   3626\u001b[0m     \u001b[39m#  InvalidIndexError. Otherwise we fall through and re-raise\u001b[39;00m\n\u001b[0;32m   3627\u001b[0m     \u001b[39m#  the TypeError.\u001b[39;00m\n\u001b[0;32m   3628\u001b[0m     \u001b[39mself\u001b[39m\u001b[39m.\u001b[39m_check_indexing_error(key)\n",
      "\u001b[1;31mKeyError\u001b[0m: 1"
     ]
    }
   ],
   "source": [
    "myreg = MultivariateRegression()\n",
    "myreg.fit_multi(X_train, y_train)"
   ]
  },
  {
   "cell_type": "code",
   "execution_count": null,
   "metadata": {},
   "outputs": [],
   "source": [
    "y_pred = myreg.predict(X_test)\n",
    "'''\n",
    "plt.scatter(X_test, y_test, alpha=0.2)\n",
    "plt.plot(X_test, y_pred, c='red')\n",
    "plt.xlabel('X_test')\n",
    "plt.ylabel('Y_pred')\n",
    "plt.show()\n",
    "myreg.score'''"
   ]
  }
 ],
 "metadata": {
  "interpreter": {
   "hash": "7a8ccd63795149f5b6a64cd874946f7ab87af296b69e75f89a662bb3c1cf6dbc"
  },
  "kernelspec": {
   "display_name": "Python 3.9.7 64-bit",
   "language": "python",
   "name": "python3"
  },
  "language_info": {
   "codemirror_mode": {
    "name": "ipython",
    "version": 3
   },
   "file_extension": ".py",
   "mimetype": "text/x-python",
   "name": "python",
   "nbconvert_exporter": "python",
   "pygments_lexer": "ipython3",
   "version": "3.9.7"
  },
  "orig_nbformat": 4
 },
 "nbformat": 4,
 "nbformat_minor": 2
}
