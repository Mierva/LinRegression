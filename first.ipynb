{
 "cells": [
  {
   "cell_type": "code",
   "execution_count": 2,
   "metadata": {},
   "outputs": [],
   "source": [
    "import pandas as pd\n",
    "import numpy as np\n",
    "import matplotlib.pyplot as plt\n",
    "import seaborn as sn\n",
    "from sklearn.linear_model import LinearRegression\n",
    "from sklearn.metrics import mean_squared_error, r2_score\n",
    "from sklearn.impute import SimpleImputer\n",
    "from sklearn.model_selection import train_test_split\n",
    "\n",
    "df = pd.read_csv(r'D:\\Applied ML learning\\datasets\\house_pricing\\train.csv')\n",
    "X_train, X_test, y_train, y_test = train_test_split(df, df['SalePrice'], test_size=0.3, random_state=0)"
   ]
  },
  {
   "cell_type": "code",
   "execution_count": 3,
   "metadata": {},
   "outputs": [],
   "source": [
    "X_train = X_train.reset_index().drop('index',axis=1)\n",
    "X_train = X_train.select_dtypes(exclude=['object'])\n",
    "X_train.drop('Id',axis=1,inplace=True)\n",
    "X_train.drop('SalePrice',axis=1,inplace=True)"
   ]
  },
  {
   "cell_type": "code",
   "execution_count": 4,
   "metadata": {},
   "outputs": [],
   "source": [
    "X_test = X_test.reset_index().drop('index',axis=1)\n",
    "X_test = X_test.select_dtypes(exclude=['object'])\n",
    "X_test.drop('Id',axis=1,inplace=True)\n",
    "X_test.drop('SalePrice',axis=1,inplace=True)"
   ]
  },
  {
   "cell_type": "code",
   "execution_count": 5,
   "metadata": {},
   "outputs": [],
   "source": [
    "X_train[:] = SimpleImputer(strategy='mean').fit_transform(X_train)\n",
    "X_test[:]  = SimpleImputer(strategy='mean').fit_transform(X_test)\n",
    "\n",
    "reg = LinearRegression()\n",
    "reg.fit(X_train, y_train)\n",
    "y_predicted = reg.predict(X_test)"
   ]
  },
  {
   "cell_type": "code",
   "execution_count": 8,
   "metadata": {},
   "outputs": [
    {
     "data": {
      "text/plain": [
       "(40000.0, 500000.0)"
      ]
     },
     "execution_count": 8,
     "metadata": {},
     "output_type": "execute_result"
    },
    {
     "data": {
      "image/png": "[encoded data removed]",
      "text/plain": [
       "<Figure size 432x288 with 1 Axes>"
      ]
     },
     "metadata": {
      "needs_background": "light"
     },
     "output_type": "display_data"
    }
   ],
   "source": [
    "mse = mean_squared_error(y_test, y_predicted)\n",
    "\n",
    "'''What to output?'''\n",
    "plt.scatter(y_test, y_predicted)\n",
    "plt.plot(y_predicted,y_predicted, color='red')\n",
    "\n",
    "plt.xlim(left=40000,right=500000)\n",
    "plt.ylim(bottom=40000,top=500000)"
   ]
  },
  {
   "cell_type": "code",
   "execution_count": 10,
   "metadata": {},
   "outputs": [
    {
     "data": {
      "text/plain": [
       "0.7200204147760108"
      ]
     },
     "execution_count": 10,
     "metadata": {},
     "output_type": "execute_result"
    }
   ],
   "source": [
    "reg.score(X_test,y_test)"
   ]
  },
  {
   "cell_type": "code",
   "execution_count": 80,
   "metadata": {},
   "outputs": [],
   "source": [
    "class MultivariateRegression:\n",
    "    def __init__(self):\n",
    "        self.score = 0\n",
    "        self.coeffs = 0\n",
    "        self.std = 0\n",
    "        self.res = 0\n",
    "\n",
    "    def simple_fit(self, features, target):\n",
    "        # .map() or .apply() those loops to make it multivariable\n",
    "        xy = [features.values[i]*target.values[i] for i in range(len(features.values))]\n",
    "        x_squared = [x[0]**2 for x in features.values]\n",
    "        n = len(features.values)\n",
    "\n",
    "        m = (n*sum(xy)-sum(features.values)*sum(target.values))/(n*sum(x_squared)-(sum(features.values)**2))\n",
    "        b = ((sum(target.values)-m*sum(features.values))/n)\n",
    "\n",
    "        y = [(m*x[0]+b) for x in features.values]\n",
    "\n",
    "        return y\n",
    "\n",
    "    def fit(self, X, y):\n",
    "        \n",
    "        return 0\n",
    "\n",
    "    def predict(self):\n",
    "        pass\n",
    "\n"
   ]
  },
  {
   "cell_type": "code",
   "execution_count": 81,
   "metadata": {},
   "outputs": [
    {
     "data": {
      "text/html": [
       "<div>\n",
       "<style scoped>\n",
       "    .dataframe tbody tr th:only-of-type {\n",
       "        vertical-align: middle;\n",
       "    }\n",
       "\n",
       "    .dataframe tbody tr th {\n",
       "        vertical-align: top;\n",
       "    }\n",
       "\n",
       "    .dataframe thead th {\n",
       "        text-align: right;\n",
       "    }\n",
       "</style>\n",
       "<table border=\"1\" class=\"dataframe\">\n",
       "  <thead>\n",
       "    <tr style=\"text-align: right;\">\n",
       "      <th></th>\n",
       "      <th>Sex</th>\n",
       "    </tr>\n",
       "  </thead>\n",
       "  <tbody>\n",
       "    <tr>\n",
       "      <th>0</th>\n",
       "      <td>0</td>\n",
       "    </tr>\n",
       "    <tr>\n",
       "      <th>1</th>\n",
       "      <td>1</td>\n",
       "    </tr>\n",
       "    <tr>\n",
       "      <th>2</th>\n",
       "      <td>0</td>\n",
       "    </tr>\n",
       "  </tbody>\n",
       "</table>\n",
       "</div>"
      ],
      "text/plain": [
       "   Sex\n",
       "0    0\n",
       "1    1\n",
       "2    0"
      ]
     },
     "execution_count": 81,
     "metadata": {},
     "output_type": "execute_result"
    }
   ],
   "source": [
    "X_train = pd.DataFrame(data={'Age':[14,20,34],'Height':[160,177,185],'Sex':[0,1,0]})\n",
    "X_train['Death'] = [89,70,95]\n",
    "\n",
    "y_train = X_train['Death']\n",
    "X_train.drop(columns=['Death'], inplace=True)\n",
    "\n",
    "X_train = X_train.iloc[:,-1:]\n",
    "X_train"
   ]
  },
  {
   "cell_type": "code",
   "execution_count": 84,
   "metadata": {},
   "outputs": [
    {
     "data": {
      "text/plain": [
       "\"y_predicted = myreg.predict()\\n\\nplt.scatter(X_train, y_train)\\nplt.plot(y_predicted,y_predicted, color='red')\""
      ]
     },
     "execution_count": 84,
     "metadata": {},
     "output_type": "execute_result"
    }
   ],
   "source": [
    "myreg = MultivariateRegression()\n",
    "myreg.fit(X_train, y_train)\n",
    "\n",
    "'''y_predicted = myreg.predict()\n",
    "\n",
    "plt.scatter(X_train, y_train)\n",
    "plt.plot(y_predicted,y_predicted, color='red')'''"
   ]
  },
  {
   "cell_type": "code",
   "execution_count": null,
   "metadata": {},
   "outputs": [],
   "source": []
  }
 ],
 "metadata": {
  "interpreter": {
   "hash": "7a8ccd63795149f5b6a64cd874946f7ab87af296b69e75f89a662bb3c1cf6dbc"
  },
  "kernelspec": {
   "display_name": "Python 3.9.7 64-bit",
   "language": "python",
   "name": "python3"
  },
  "language_info": {
   "codemirror_mode": {
    "name": "ipython",
    "version": 3
   },
   "file_extension": ".py",
   "mimetype": "text/x-python",
   "name": "python",
   "nbconvert_exporter": "python",
   "pygments_lexer": "ipython3",
   "version": "3.9.7"
  },
  "orig_nbformat": 4
 },
 "nbformat": 4,
 "nbformat_minor": 2
}
