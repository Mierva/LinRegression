{
 "cells": [
  {
   "cell_type": "markdown",
   "metadata": {},
   "source": [
    "<h3>Doing real-data regression using sklearn tools</h3>"
   ]
  },
  {
   "cell_type": "code",
   "execution_count": null,
   "metadata": {},
   "outputs": [],
   "source": [
    "import pandas as pd\n",
    "import numpy as np\n",
    "import matplotlib.pyplot as plt\n",
    "import seaborn as sn\n",
    "from sklearn.linear_model import LinearRegression\n",
    "from sklearn.metrics import mean_squared_error, r2_score, mean_absolute_error\n",
    "from sklearn.impute import SimpleImputer\n",
    "from sklearn.model_selection import train_test_split\n",
    "\n",
    "df = pd.read_csv(r'D:\\Applied ML learning\\Linear_regression\\train.csv')\n",
    "\n",
    "X_train, X_test, y_train, y_test = train_test_split(df, df['SalePrice'], test_size=0.3, random_state=0)"
   ]
  },
  {
   "cell_type": "code",
   "execution_count": null,
   "metadata": {},
   "outputs": [],
   "source": [
    "X_train = (\n",
    "    X_train\n",
    "    .reset_index().drop('index',axis=1)\n",
    "    .select_dtypes(exclude=['object'])\n",
    "    .drop('Id',axis=1)\n",
    "    .drop('SalePrice',axis=1)\n",
    ")"
   ]
  },
  {
   "cell_type": "code",
   "execution_count": null,
   "metadata": {},
   "outputs": [],
   "source": [
    "imputer = SimpleImputer(strategy='median')\n",
    "X_train = imputer.fit_transform(X_train)"
   ]
  },
  {
   "cell_type": "code",
   "execution_count": null,
   "metadata": {},
   "outputs": [],
   "source": [
    "X_test = (\n",
    "    X_test\n",
    "    .reset_index().drop('index',axis=1)\n",
    "    .select_dtypes(exclude=['object'])\n",
    "    .drop('Id',axis=1)\n",
    "    .drop('SalePrice',axis=1)\n",
    ")"
   ]
  },
  {
   "cell_type": "code",
   "execution_count": null,
   "metadata": {},
   "outputs": [],
   "source": [
    "imputer = SimpleImputer(strategy='median')\n",
    "X_test = imputer.fit_transform(X_test)"
   ]
  },
  {
   "cell_type": "code",
   "execution_count": null,
   "metadata": {},
   "outputs": [],
   "source": [
    "reg = LinearRegression()\n",
    "reg.fit(X_train, y_train)\n",
    "y_predicted = reg.predict(X_test)\n",
    "reg.score(X_test, y_test)"
   ]
  },
  {
   "cell_type": "markdown",
   "metadata": {},
   "source": [
    "<H3>Developing of my own linear regression algorithm</H3>"
   ]
  },
  {
   "cell_type": "code",
   "execution_count": null,
   "metadata": {},
   "outputs": [],
   "source": [
    "import pandas as pd\n",
    "import numpy as np\n",
    "import matplotlib.pyplot as plt\n",
    "import seaborn as sn\n",
    "from sklearn.linear_model import LinearRegression\n",
    "from sklearn.metrics import mean_squared_error, r2_score, mean_absolute_error\n",
    "from sklearn.impute import SimpleImputer\n",
    "from sklearn.model_selection import train_test_split\n",
    "\n",
    "df = pd.read_csv(r'D:\\Applied ML learning\\Linear_regression\\train.csv')\n",
    "\n",
    "X_train, X_test, y_train, y_test = train_test_split(df, df['SalePrice'], test_size=0.3, random_state=0)\n",
    "\n",
    "X_train = X_train['LotArea']\n",
    "X_test = X_test['LotArea']"
   ]
  },
  {
   "cell_type": "code",
   "execution_count": 165,
   "metadata": {},
   "outputs": [
    {
     "data": {
      "text/plain": [
       "'df_sum = lambda X: sum([xi for xi in X])\\n    SSxy = (sum([xi*yi for (xi,yi) in zip(X,y)]) -\\n            df_sum(X)*df_sum(y)) / n'"
      ]
     },
     "execution_count": 165,
     "metadata": {},
     "output_type": "execute_result"
    }
   ],
   "source": [
    "class MultivariateRegression:\n",
    "    def __init__(self):\n",
    "        # TODO: finish regression analysis part\n",
    "        self.score = 0\n",
    "        self.coeffs = 0\n",
    "        self.residuals = 0\n",
    "\n",
    "        self.slope = 0\n",
    "        self.intercept = 0\n",
    "\n",
    "    def fit(self, X, y):\n",
    "        x_mean = np.mean(X)\n",
    "        y_mean = np.mean(y)\n",
    "\n",
    "        self.residuals = sum([value - y_mean for value in y])\n",
    "\n",
    "        N = len(X)\n",
    "\n",
    "        SSxy = (sum([xi*yi for (xi,yi) in zip(X,y)]) - sum(X)*sum(y)) / N\n",
    "\n",
    "        SSxx = sum(X)**2 - (sum(X)**2)/2\n",
    "        self.slope = SSxy/SSxx\n",
    "\n",
    "        self.intercept = y_mean - self.slope*x_mean\n",
    "\n",
    "        self.score = 1 - (sum([(yi - self.predict(yi))**2 for yi in y]) / \\\n",
    "                         sum(([(yi - y_mean)**2 for yi in y])))\n",
    "        self.coeffs = (self.intercept, self.slope)\n",
    "\n",
    "    def fit_multi(self, X_all, y):\n",
    "        # TODO: how mony iterations should be done and what defines model's goodness?\n",
    "        # what is loop's condition to stop iteration process?\n",
    "        # how to reduce error? learning rate? how to change parameters during fitting?\n",
    "        for column in X_all.T:\n",
    "            X = column\n",
    "            \n",
    "            x_mean = np.mean(X)\n",
    "            y_mean = np.mean(y)\n",
    "\n",
    "            self.residuals = sum([value - y_mean for value in y])\n",
    "\n",
    "            n = len(X)\n",
    "\n",
    "            SSxy = (sum([X[i]*y[i] for i in range(len(X))]) - sum([xi for xi in X])*sum([yi for yi in y])) / n\n",
    "            SSxx = sum([xi for xi in X])**2 - (sum([xi for xi in X])**2)/2\n",
    "            self.slope = SSxy/SSxx\n",
    "\n",
    "            self.intercept = y_mean - self.slope*x_mean\n",
    "            \n",
    "            self.score  = 1 - (sum([(yi - self.predict(yi)[0])**2 for yi in y]) / sum(([(yi - y_mean)**2 for yi in y])))\n",
    "            self.coeffs = (self.intercept, self.slope)\n",
    "    \n",
    "    def predict(self, *X):\n",
    "        if type(X[0]) == pd.Series:\n",
    "            X = X[0]\n",
    "            y_pred = pd.Series([(self.slope*xi)+self.intercept for xi in X])\n",
    "        \n",
    "        y_pred = [(self.slope*xi+self.intercept) for xi in X]\n",
    "        return y_pred[0]\n",
    "\n",
    "\n",
    "    '''def fit(self, X, y):\n",
    "        for i in range(X.shape[1]):\n",
    "            xy = [X.iloc[:,i].values.iloc[:,i]*y.iloc[:,i].values.iloc[:,i] for i in range(len(X.iloc[:,i].values))]\n",
    "            x_squared = [x[0]**2 for x in X.iloc[:,i].values]\n",
    "            n = len(X.values)\n",
    "\n",
    "            m = (n*sum(xy)-sum(X.iloc[:,i].values)*sum(y.iloc[:,i].values))/(n*sum(x_squared)-(sum(X.iloc[:,i].values)**2))\n",
    "            b = ((sum(y.iloc[:,i].values)-m*sum(X.iloc[:,i].values))/n)\n",
    "\n",
    "            y = [(m*x[0]+b) for x in X.iloc[:,i].values]\n",
    "\n",
    "        return y'''\n",
    "\n",
    "    '''def gradient_descent(x_actual, x_pred, intercept, slope, L=0.01):\n",
    "        old_intercept = -2(x_actual + (x_pred*slope + intercept))\n",
    "        step_size = old_intercept*L\n",
    "        new_intercept = old_intercept-step_size\n",
    "\n",
    "        step_size_limit = 0.001\n",
    "        step_num_limit  = 1000\n",
    "        if step_size >= step_size_limit & 0 >= step_num_limit:\n",
    "            pass\n",
    "       \n",
    "        return 0'''\n",
    "\n",
    "'''df_sum = lambda X: sum([xi for xi in X])\n",
    "    SSxy = (sum([xi*yi for (xi,yi) in zip(X,y)]) -\n",
    "            df_sum(X)*df_sum(y)) / n'''"
   ]
  },
  {
   "cell_type": "code",
   "execution_count": null,
   "metadata": {},
   "outputs": [],
   "source": [
    "myreg = MultivariateRegression()\n",
    "#myreg.fit_multi(X_train, y_train)\n",
    "\n",
    "X_all = X_train\n",
    "y = y_train\n",
    "\n",
    "def predict(*X):\n",
    "    if type(X[0]) == pd.Series:\n",
    "        X = X[0]\n",
    "        y_pred = pd.Series([(slope*xi)+intercept for xi in X])\n",
    "\n",
    "    y_pred = [(slope*xi+intercept) for xi in X]\n",
    "    return y_pred\n",
    "\n",
    "slope, intercept, residuals = [0, 0, 0]\n",
    "for column in X_all.T:\n",
    "    X = column\n",
    "\n",
    "    x_mean = np.mean(X)\n",
    "    y_mean = np.mean(y)\n",
    "\n",
    "    residuals = sum([value - y_mean for value in y])\n",
    "\n",
    "    N = len(X)\n",
    "\n",
    "    SSxy = (sum([xi*yi for (xi,yi) in zip(X,y)]) - sum(X)*sum(y)) / N\n",
    "\n",
    "    SSxx = sum(X)**2 - (sum(X)**2)/2\n",
    "    slope = SSxy/SSxx\n",
    "\n",
    "    intercept = y_mean - slope*x_mean\n",
    "\n",
    "    score = 1 - (sum([(yi - predict(yi)[0])**2 for yi in y]\n",
    "                     ) / sum(([(yi - y_mean)**2 for yi in y])))\n",
    "    coeffs = (intercept, slope)"
   ]
  },
  {
   "cell_type": "code",
   "execution_count": null,
   "metadata": {},
   "outputs": [],
   "source": [
    "pred = predict(X_train.T[1])[0]\n",
    "\n",
    "plt.scatter(X_train.T[1], y_train)\n",
    "plt.plot(X_train.T[1], pred, c='red')"
   ]
  },
  {
   "cell_type": "code",
   "execution_count": null,
   "metadata": {},
   "outputs": [],
   "source": [
    "y_pred = myreg.predict(X_test)\n",
    "'''\n",
    "plt.scatter(X_test, y_test, alpha=0.2)\n",
    "plt.plot(X_test, y_pred, c='red')\n",
    "plt.xlabel('X_test')\n",
    "plt.ylabel('Y_pred')\n",
    "plt.show()\n",
    "myreg.score'''"
   ]
  },
  {
   "cell_type": "code",
   "execution_count": 141,
   "metadata": {},
   "outputs": [],
   "source": [
    "import pandas as pd\n",
    "import numpy as np\n",
    "import matplotlib.pyplot as plt\n",
    "import seaborn as sn\n",
    "from sklearn.linear_model import LinearRegression\n",
    "from sklearn.metrics import mean_squared_error, r2_score, mean_absolute_error\n",
    "from sklearn.impute import SimpleImputer\n",
    "from sklearn.model_selection import train_test_split\n",
    "\n",
    "df = pd.read_csv(r'D:\\Applied ML learning\\Linear_regression\\Data.csv')\n",
    "df = df[df['Price_house'] < 100000000]\n",
    "X_train, X_test, y_train, y_test = train_test_split(df.Rainfall.values.reshape(-1,1), df.Price_house, train_size=0.7, random_state=0)"
   ]
  },
  {
   "cell_type": "code",
   "execution_count": 168,
   "metadata": {},
   "outputs": [
    {
     "data": {
      "text/plain": [
       "array([5951696.98253718])"
      ]
     },
     "execution_count": 168,
     "metadata": {},
     "output_type": "execute_result"
    },
    {
     "data": {
      "image/png": "[encoded data removed]",
      "text/plain": [
       "<Figure size 432x288 with 1 Axes>"
      ]
     },
     "metadata": {
      "needs_background": "light"
     },
     "output_type": "display_data"
    }
   ],
   "source": [
    "myreg = MultivariateRegression()\n",
    "myreg.fit(X_train, y_train)\n",
    "y_pred = myreg.predict(X_test)\n",
    "\n",
    "plt.scatter(X_test, y_test,)\n",
    "plt.plot(X_test, y_pred, c='r')\n",
    "myreg.intercept"
   ]
  },
  {
   "cell_type": "code",
   "execution_count": 167,
   "metadata": {},
   "outputs": [
    {
     "data": {
      "text/plain": [
       "5855411.836952145"
      ]
     },
     "execution_count": 167,
     "metadata": {},
     "output_type": "execute_result"
    },
    {
     "data": {
      "image/png": "[encoded data removed]",
      "text/plain": [
       "<Figure size 432x288 with 1 Axes>"
      ]
     },
     "metadata": {
      "needs_background": "light"
     },
     "output_type": "display_data"
    }
   ],
   "source": [
    "reg = LinearRegression()\n",
    "reg.fit(X_train, y_train)\n",
    "y_pred = reg.predict(X_test)\n",
    "\n",
    "plt.scatter(X_test, y_test,)\n",
    "plt.plot(X_test, y_pred, c='r')\n",
    "reg.intercept_"
   ]
  },
  {
   "cell_type": "markdown",
   "metadata": {},
   "source": [
    "<h3>Difference in intercepts<br>\n",
    "mine is 1.64% worse</h3>"
   ]
  },
  {
   "cell_type": "markdown",
   "metadata": {},
   "source": [
    "<h3>"
   ]
  },
  {
   "cell_type": "code",
   "execution_count": 177,
   "metadata": {},
   "outputs": [
    {
     "data": {
      "text/plain": [
       "array([1.64437871])"
      ]
     },
     "execution_count": 177,
     "metadata": {},
     "output_type": "execute_result"
    }
   ],
   "source": [
    "abs(myreg.intercept - reg.intercept_) *100 /reg.intercept_"
   ]
  },
  {
   "cell_type": "code",
   "execution_count": null,
   "metadata": {},
   "outputs": [],
   "source": []
  }
 ],
 "metadata": {
  "interpreter": {
   "hash": "7a8ccd63795149f5b6a64cd874946f7ab87af296b69e75f89a662bb3c1cf6dbc"
  },
  "kernelspec": {
   "display_name": "Python 3.9.7 64-bit",
   "language": "python",
   "name": "python3"
  },
  "language_info": {
   "codemirror_mode": {
    "name": "ipython",
    "version": 3
   },
   "file_extension": ".py",
   "mimetype": "text/x-python",
   "name": "python",
   "nbconvert_exporter": "python",
   "pygments_lexer": "ipython3",
   "version": "3.9.7"
  },
  "orig_nbformat": 4
 },
 "nbformat": 4,
 "nbformat_minor": 2
}
