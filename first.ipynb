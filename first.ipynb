{
 "cells": [
  {
   "cell_type": "code",
   "execution_count": null,
   "metadata": {},
   "outputs": [],
   "source": [
    "import pandas as pd\n",
    "import numpy as np\n",
    "import matplotlib.pyplot as plt\n",
    "import seaborn as sn\n",
    "from sklearn.linear_model import LinearRegression\n",
    "from sklearn.metrics import mean_squared_error, r2_score, mean_absolute_error\n",
    "from sklearn.impute import SimpleImputer\n",
    "from sklearn.model_selection import train_test_split\n",
    "\n",
    "df = pd.read_csv(r'D:\\Applied ML learning\\datasets\\house_pricing\\train.csv')\n",
    "\n",
    "X_train, X_test, y_train, y_test = train_test_split(df, df['SalePrice'], test_size=0.3, random_state=0)"
   ]
  },
  {
   "cell_type": "code",
   "execution_count": null,
   "metadata": {},
   "outputs": [],
   "source": [
    "X_train = (\n",
    "    X_train\n",
    "    .reset_index().drop('index',axis=1)\n",
    "    .select_dtypes(exclude=['object'])\n",
    "    .drop('Id',axis=1)\n",
    "    .drop('SalePrice',axis=1)\n",
    ")"
   ]
  },
  {
   "cell_type": "code",
   "execution_count": null,
   "metadata": {},
   "outputs": [],
   "source": [
    "imputer = SimpleImputer(strategy='median')\n",
    "X_train = imputer.fit_transform(X_train)"
   ]
  },
  {
   "cell_type": "code",
   "execution_count": null,
   "metadata": {},
   "outputs": [],
   "source": [
    "X_test = (\n",
    "    X_test\n",
    "    .reset_index().drop('index',axis=1)\n",
    "    .select_dtypes(exclude=['object'])\n",
    "    .drop('Id',axis=1)\n",
    "    .drop('SalePrice',axis=1)\n",
    ")"
   ]
  },
  {
   "cell_type": "code",
   "execution_count": null,
   "metadata": {},
   "outputs": [],
   "source": [
    "imputer = SimpleImputer(strategy='median')\n",
    "X_test = imputer.fit_transform(X_test)"
   ]
  },
  {
   "cell_type": "code",
   "execution_count": null,
   "metadata": {},
   "outputs": [],
   "source": [
    "reg = LinearRegression()\n",
    "reg.fit(X_train, y_train)\n",
    "y_predicted = reg.predict(X_test)"
   ]
  },
  {
   "cell_type": "code",
   "execution_count": 119,
   "metadata": {},
   "outputs": [],
   "source": [
    "import pandas as pd\n",
    "import numpy as np\n",
    "import matplotlib.pyplot as plt\n",
    "import seaborn as sn\n",
    "from sklearn.linear_model import LinearRegression\n",
    "from sklearn.metrics import mean_squared_error, r2_score, mean_absolute_error\n",
    "from sklearn.impute import SimpleImputer\n",
    "from sklearn.model_selection import train_test_split\n",
    "\n",
    "df = pd.read_csv(r'D:\\Applied ML learning\\datasets\\house_pricing\\train.csv')\n",
    "\n",
    "X_train, X_test, y_train, y_test = train_test_split(df, df['SalePrice'], test_size=0.3, random_state=0)\n",
    "\n",
    "X_train = X_train['LotArea']\n",
    "X_test = X_test['LotArea']"
   ]
  },
  {
   "cell_type": "code",
   "execution_count": 123,
   "metadata": {},
   "outputs": [],
   "source": [
    "class MultivariateRegression:\n",
    "    def __init__(self):\n",
    "        # TODO: finish regression analysis part\n",
    "        self.score = 0\n",
    "        self.coeffs = 0\n",
    "        self.std = []\n",
    "        self.residuals = 0\n",
    "\n",
    "        self.slope = 0\n",
    "        self.intercept = 0\n",
    "\n",
    "    def fit(self, X, y):\n",
    "        x_mean = X.mean()\n",
    "        y_mean = y.mean()\n",
    "\n",
    "        self.residuals = sum([value - y_mean for value in y])\n",
    "\n",
    "        self.slope = (sum([xi - x_mean for xi in X]) * self.residuals) / \\\n",
    "                     sum([(xi - x_mean)**2 for xi in X])\n",
    "                     \n",
    "        self.intercept = [(y_mean - (self.slope*xi)) for xi in X]\n",
    "        \n",
    "        '''n = X.shape[0]\n",
    "\n",
    "        self.score = (1/n * (sum([X[i]-x_mean for i in range(X.shape[0])]) * self.residuals)/ \\\n",
    "            (np.std(X)*np.std(y)))**2'''\n",
    "    \n",
    "    def predict(self, *X):\n",
    "        if type(X[0]) != list:\n",
    "            X = X[0]\n",
    "            y_pred = pd.Series([(self.slope*xi)+self.intercept for xi in X])\n",
    "        \n",
    "        y_pred = [(self.slope*xi+self.intercept) for xi in X]\n",
    "        return y_pred[0]\n",
    "\n",
    "\n",
    "    '''def fit(self, X, y):\n",
    "        for i in range(X.shape[1]):\n",
    "            xy = [X.iloc[:,i].values.iloc[:,i]*y.iloc[:,i].values.iloc[:,i] for i in range(len(X.iloc[:,i].values))]\n",
    "            x_squared = [x[0]**2 for x in X.iloc[:,i].values]\n",
    "            n = len(X.values)\n",
    "\n",
    "            m = (n*sum(xy)-sum(X.iloc[:,i].values)*sum(y.iloc[:,i].values))/(n*sum(x_squared)-(sum(X.iloc[:,i].values)**2))\n",
    "            b = ((sum(y.iloc[:,i].values)-m*sum(X.iloc[:,i].values))/n)\n",
    "\n",
    "            y = [(m*x[0]+b) for x in X.iloc[:,i].values]\n",
    "\n",
    "        return y'''\n",
    "\n",
    "    '''def gradient_descent(x_actual, x_pred, intercept, slope, L=0.01):\n",
    "        old_intercept = -2(x_actual + (x_pred*slope + intercept))\n",
    "        step_size = old_intercept*L\n",
    "        new_intercept = old_intercept-step_size\n",
    "\n",
    "        step_size_limit = 0.001\n",
    "        step_num_limit  = 1000\n",
    "        if step_size >= step_size_limit & 0 >= step_num_limit:\n",
    "            pass\n",
    "       \n",
    "        return 0'''"
   ]
  },
  {
   "cell_type": "code",
   "execution_count": 124,
   "metadata": {},
   "outputs": [],
   "source": [
    "myreg = MultivariateRegression()\n",
    "myreg.fit(X_test, y_test)"
   ]
  },
  {
   "cell_type": "code",
   "execution_count": 125,
   "metadata": {},
   "outputs": [
    {
     "ename": "KeyboardInterrupt",
     "evalue": "",
     "output_type": "error",
     "traceback": [
      "\u001b[1;31m---------------------------------------------------------------------------\u001b[0m",
      "\u001b[1;31mKeyboardInterrupt\u001b[0m                         Traceback (most recent call last)",
      "\u001b[1;32md:\\Applied ML learning\\first.ipynb Cell 10'\u001b[0m in \u001b[0;36m<module>\u001b[1;34m\u001b[0m\n\u001b[1;32m----> <a href='vscode-notebook-cell:/d%3A/Applied%20ML%20learning/first.ipynb#ch0000009?line=0'>1</a>\u001b[0m y_pred \u001b[39m=\u001b[39m myreg\u001b[39m.\u001b[39;49mpredict(X_test)\n\u001b[0;32m      <a href='vscode-notebook-cell:/d%3A/Applied%20ML%20learning/first.ipynb#ch0000009?line=2'>3</a>\u001b[0m \u001b[39m'''plt.scatter(X_test, y_test, alpha=0.2)\u001b[39;00m\n\u001b[0;32m      <a href='vscode-notebook-cell:/d%3A/Applied%20ML%20learning/first.ipynb#ch0000009?line=3'>4</a>\u001b[0m \u001b[39mplt.plot(X_test, y_pred, c='red')\u001b[39;00m\n\u001b[0;32m      <a href='vscode-notebook-cell:/d%3A/Applied%20ML%20learning/first.ipynb#ch0000009?line=4'>5</a>\u001b[0m \u001b[39mplt.xlabel('X_test')\u001b[39;00m\n\u001b[0;32m      <a href='vscode-notebook-cell:/d%3A/Applied%20ML%20learning/first.ipynb#ch0000009?line=5'>6</a>\u001b[0m \u001b[39mplt.ylabel('Y_pred')\u001b[39;00m\n\u001b[0;32m      <a href='vscode-notebook-cell:/d%3A/Applied%20ML%20learning/first.ipynb#ch0000009?line=6'>7</a>\u001b[0m \u001b[39mplt.legend(['Data','Regression'])\u001b[39;00m\n\u001b[0;32m      <a href='vscode-notebook-cell:/d%3A/Applied%20ML%20learning/first.ipynb#ch0000009?line=7'>8</a>\u001b[0m \u001b[39mplt.show()'''\u001b[39;00m\n",
      "\u001b[1;32md:\\Applied ML learning\\first.ipynb Cell 8'\u001b[0m in \u001b[0;36mMultivariateRegression.predict\u001b[1;34m(self, *X)\u001b[0m\n\u001b[0;32m     <a href='vscode-notebook-cell:/d%3A/Applied%20ML%20learning/first.ipynb#ch0000007?line=28'>29</a>\u001b[0m \u001b[39mif\u001b[39;00m \u001b[39mtype\u001b[39m(X[\u001b[39m0\u001b[39m]) \u001b[39m!=\u001b[39m \u001b[39mlist\u001b[39m:\n\u001b[0;32m     <a href='vscode-notebook-cell:/d%3A/Applied%20ML%20learning/first.ipynb#ch0000007?line=29'>30</a>\u001b[0m     X \u001b[39m=\u001b[39m X[\u001b[39m0\u001b[39m]\n\u001b[1;32m---> <a href='vscode-notebook-cell:/d%3A/Applied%20ML%20learning/first.ipynb#ch0000007?line=30'>31</a>\u001b[0m     y_pred \u001b[39m=\u001b[39m pd\u001b[39m.\u001b[39mSeries([(\u001b[39mself\u001b[39m\u001b[39m.\u001b[39mslope\u001b[39m*\u001b[39mxi\u001b[39m+\u001b[39m\u001b[39mself\u001b[39m\u001b[39m.\u001b[39mintercept) \u001b[39mfor\u001b[39;00m xi \u001b[39min\u001b[39;00m X])\n\u001b[0;32m     <a href='vscode-notebook-cell:/d%3A/Applied%20ML%20learning/first.ipynb#ch0000007?line=32'>33</a>\u001b[0m y_pred \u001b[39m=\u001b[39m [(\u001b[39mself\u001b[39m\u001b[39m.\u001b[39mslope\u001b[39m*\u001b[39mxi\u001b[39m+\u001b[39m\u001b[39mself\u001b[39m\u001b[39m.\u001b[39mintercept) \u001b[39mfor\u001b[39;00m xi \u001b[39min\u001b[39;00m X]\n\u001b[0;32m     <a href='vscode-notebook-cell:/d%3A/Applied%20ML%20learning/first.ipynb#ch0000007?line=33'>34</a>\u001b[0m \u001b[39mreturn\u001b[39;00m y_pred[\u001b[39m0\u001b[39m]\n",
      "\u001b[1;32md:\\Applied ML learning\\first.ipynb Cell 8'\u001b[0m in \u001b[0;36m<listcomp>\u001b[1;34m(.0)\u001b[0m\n\u001b[0;32m     <a href='vscode-notebook-cell:/d%3A/Applied%20ML%20learning/first.ipynb#ch0000007?line=28'>29</a>\u001b[0m \u001b[39mif\u001b[39;00m \u001b[39mtype\u001b[39m(X[\u001b[39m0\u001b[39m]) \u001b[39m!=\u001b[39m \u001b[39mlist\u001b[39m:\n\u001b[0;32m     <a href='vscode-notebook-cell:/d%3A/Applied%20ML%20learning/first.ipynb#ch0000007?line=29'>30</a>\u001b[0m     X \u001b[39m=\u001b[39m X[\u001b[39m0\u001b[39m]\n\u001b[1;32m---> <a href='vscode-notebook-cell:/d%3A/Applied%20ML%20learning/first.ipynb#ch0000007?line=30'>31</a>\u001b[0m     y_pred \u001b[39m=\u001b[39m pd\u001b[39m.\u001b[39mSeries([(\u001b[39mself\u001b[39;49m\u001b[39m.\u001b[39;49mslope\u001b[39m*\u001b[39;49mxi\u001b[39m+\u001b[39;49m\u001b[39mself\u001b[39;49m\u001b[39m.\u001b[39;49mintercept) \u001b[39mfor\u001b[39;00m xi \u001b[39min\u001b[39;00m X])\n\u001b[0;32m     <a href='vscode-notebook-cell:/d%3A/Applied%20ML%20learning/first.ipynb#ch0000007?line=32'>33</a>\u001b[0m y_pred \u001b[39m=\u001b[39m [(\u001b[39mself\u001b[39m\u001b[39m.\u001b[39mslope\u001b[39m*\u001b[39mxi\u001b[39m+\u001b[39m\u001b[39mself\u001b[39m\u001b[39m.\u001b[39mintercept) \u001b[39mfor\u001b[39;00m xi \u001b[39min\u001b[39;00m X]\n\u001b[0;32m     <a href='vscode-notebook-cell:/d%3A/Applied%20ML%20learning/first.ipynb#ch0000007?line=33'>34</a>\u001b[0m \u001b[39mreturn\u001b[39;00m y_pred[\u001b[39m0\u001b[39m]\n",
      "\u001b[1;31mKeyboardInterrupt\u001b[0m: "
     ]
    }
   ],
   "source": [
    "y_pred = myreg.predict(X_test)\n",
    "\n",
    "'''plt.scatter(X_test, y_test, alpha=0.2)\n",
    "plt.plot(X_test, y_pred, c='red')\n",
    "plt.xlabel('X_test')\n",
    "plt.ylabel('Y_pred')\n",
    "plt.legend(['Data','Regression'])\n",
    "plt.show()'''\n",
    "\n"
   ]
  },
  {
   "cell_type": "code",
   "execution_count": null,
   "metadata": {},
   "outputs": [],
   "source": []
  }
 ],
 "metadata": {
  "interpreter": {
   "hash": "7a8ccd63795149f5b6a64cd874946f7ab87af296b69e75f89a662bb3c1cf6dbc"
  },
  "kernelspec": {
   "display_name": "Python 3.9.7 64-bit",
   "language": "python",
   "name": "python3"
  },
  "language_info": {
   "codemirror_mode": {
    "name": "ipython",
    "version": 3
   },
   "file_extension": ".py",
   "mimetype": "text/x-python",
   "name": "python",
   "nbconvert_exporter": "python",
   "pygments_lexer": "ipython3",
   "version": "3.9.7"
  },
  "orig_nbformat": 4
 },
 "nbformat": 4,
 "nbformat_minor": 2
}
